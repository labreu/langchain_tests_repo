{
 "cells": [
  {
   "cell_type": "markdown",
   "metadata": {},
   "source": [
    "# Generate database\n",
    "\n",
    "The idea of this notebook is to test LLMs for structured data querying. For that, we'll create a local fake database for tests. The choice was to use sqlite for its praticity"
   ]
  },
  {
   "cell_type": "code",
   "execution_count": 1,
   "metadata": {},
   "outputs": [],
   "source": [
    "import sqlite3\n",
    "from faker import Faker\n",
    "import pandas as pd"
   ]
  },
  {
   "cell_type": "code",
   "execution_count": 6,
   "metadata": {},
   "outputs": [
    {
     "name": "stdout",
     "output_type": "stream",
     "text": [
      "Sample database created successfully.\n"
     ]
    }
   ],
   "source": [
    "\n",
    "\n",
    "# Use Faker library to generate fake data\n",
    "fake = Faker()\n",
    "\n",
    "# Connect to SQLite database (creates a new database if not exists)\n",
    "conn = sqlite3.connect('database.db')\n",
    "cursor = conn.cursor()\n",
    "\n",
    "# Create users table\n",
    "cursor.execute('''\n",
    "    CREATE TABLE IF NOT EXISTS users (\n",
    "        id INTEGER PRIMARY KEY AUTOINCREMENT,\n",
    "        username TEXT,\n",
    "        email TEXT,\n",
    "        reg_date DATE\n",
    "    )\n",
    "''')\n",
    "\n",
    "# Generate and insert 100 rows of fake user data\n",
    "for _ in range(100):\n",
    "    username = fake.user_name()\n",
    "    email = fake.email()\n",
    "    reg_date = fake.date()\n",
    "    \n",
    "    cursor.execute('''\n",
    "        INSERT INTO users (username, email, reg_date)\n",
    "        VALUES (?, ?, ?)\n",
    "    ''', (username, email, reg_date))\n",
    "\n",
    "# Commit the changes and close the connection\n",
    "conn.commit()\n",
    "conn.close()\n",
    "\n",
    "print(\"Sample database created successfully.\")\n"
   ]
  },
  {
   "cell_type": "code",
   "execution_count": 2,
   "metadata": {},
   "outputs": [
    {
     "data": {
      "text/html": [
       "<div>\n",
       "<style scoped>\n",
       "    .dataframe tbody tr th:only-of-type {\n",
       "        vertical-align: middle;\n",
       "    }\n",
       "\n",
       "    .dataframe tbody tr th {\n",
       "        vertical-align: top;\n",
       "    }\n",
       "\n",
       "    .dataframe thead th {\n",
       "        text-align: right;\n",
       "    }\n",
       "</style>\n",
       "<table border=\"1\" class=\"dataframe\">\n",
       "  <thead>\n",
       "    <tr style=\"text-align: right;\">\n",
       "      <th></th>\n",
       "      <th>id</th>\n",
       "      <th>username</th>\n",
       "      <th>email</th>\n",
       "      <th>reg_date</th>\n",
       "    </tr>\n",
       "  </thead>\n",
       "  <tbody>\n",
       "    <tr>\n",
       "      <th>0</th>\n",
       "      <td>1</td>\n",
       "      <td>catherine01</td>\n",
       "      <td>wilkersonjessica@example.com</td>\n",
       "      <td>1974-12-02</td>\n",
       "    </tr>\n",
       "    <tr>\n",
       "      <th>1</th>\n",
       "      <td>2</td>\n",
       "      <td>dsilva</td>\n",
       "      <td>cpotter@example.org</td>\n",
       "      <td>2009-05-13</td>\n",
       "    </tr>\n",
       "    <tr>\n",
       "      <th>2</th>\n",
       "      <td>3</td>\n",
       "      <td>santoskathryn</td>\n",
       "      <td>latasha53@example.net</td>\n",
       "      <td>2005-02-06</td>\n",
       "    </tr>\n",
       "    <tr>\n",
       "      <th>3</th>\n",
       "      <td>4</td>\n",
       "      <td>harrisbruce</td>\n",
       "      <td>christophernorris@example.com</td>\n",
       "      <td>2006-07-25</td>\n",
       "    </tr>\n",
       "    <tr>\n",
       "      <th>4</th>\n",
       "      <td>5</td>\n",
       "      <td>keithayala</td>\n",
       "      <td>maria39@example.net</td>\n",
       "      <td>2013-08-22</td>\n",
       "    </tr>\n",
       "  </tbody>\n",
       "</table>\n",
       "</div>"
      ],
      "text/plain": [
       "   id       username                          email    reg_date\n",
       "0   1    catherine01   wilkersonjessica@example.com  1974-12-02\n",
       "1   2         dsilva            cpotter@example.org  2009-05-13\n",
       "2   3  santoskathryn          latasha53@example.net  2005-02-06\n",
       "3   4    harrisbruce  christophernorris@example.com  2006-07-25\n",
       "4   5     keithayala            maria39@example.net  2013-08-22"
      ]
     },
     "execution_count": 2,
     "metadata": {},
     "output_type": "execute_result"
    }
   ],
   "source": [
    "conn = sqlite3.connect('database.db')\n",
    "df = pd.read_sql_query('select * from users limit 5', conn)\n",
    "df"
   ]
  },
  {
   "cell_type": "markdown",
   "metadata": {},
   "source": [
    "# Querying \n",
    "To query a SQLite database using Langchain and LLMs (Language Model Models), we will follow these steps.\n",
    "For the LLM to work, a .env file was created with the OpenAI_API_KEY \n",
    "\n",
    "\n",
    "Had to install these versions of libs for it to work:\n",
    "* typing-inspect==0.8.0\n",
    "*  typing_extensions==4.5.0"
   ]
  },
  {
   "cell_type": "code",
   "execution_count": 3,
   "metadata": {},
   "outputs": [],
   "source": [
    "from langchain.utilities import SQLDatabase\n",
    "from langchain.llms import OpenAI\n",
    "from langchain_experimental.sql import SQLDatabaseChain\n",
    "\n",
    "db = SQLDatabase.from_uri(\"sqlite:///database.db\")\n",
    "llm = OpenAI(temperature=0, verbose=True)\n",
    "db_chain = SQLDatabaseChain.from_llm(llm, db, verbose=True)"
   ]
  },
  {
   "cell_type": "code",
   "execution_count": 4,
   "metadata": {},
   "outputs": [
    {
     "name": "stdout",
     "output_type": "stream",
     "text": [
      "\n",
      "\n",
      "\u001b[1m> Entering new SQLDatabaseChain chain...\u001b[0m\n",
      "how many users do we have?\n",
      "SQLQuery:\u001b[32;1m\u001b[1;3mSELECT COUNT(*) FROM users;\u001b[0m\n",
      "SQLResult: \u001b[33;1m\u001b[1;3m[(100,)]\u001b[0m\n",
      "Answer:\u001b[32;1m\u001b[1;3mWe have 100 users.\u001b[0m\n",
      "\u001b[1m> Finished chain.\u001b[0m\n"
     ]
    },
    {
     "data": {
      "text/plain": [
       "'We have 100 users.'"
      ]
     },
     "execution_count": 4,
     "metadata": {},
     "output_type": "execute_result"
    }
   ],
   "source": [
    "db_chain.run('how many users do we have?')"
   ]
  },
  {
   "cell_type": "code",
   "execution_count": 7,
   "metadata": {},
   "outputs": [
    {
     "name": "stdout",
     "output_type": "stream",
     "text": [
      "\n",
      "\n",
      "\u001b[1m> Entering new SQLDatabaseChain chain...\u001b[0m\n",
      "do we have duplicate usernames?\n",
      "SQLQuery:\u001b[32;1m\u001b[1;3mSELECT username, COUNT(*) AS count FROM users GROUP BY username HAVING count > 1;\u001b[0m\n",
      "SQLResult: \u001b[33;1m\u001b[1;3m\u001b[0m\n",
      "Answer:\u001b[32;1m\u001b[1;3mYes, we have duplicate usernames.\u001b[0m\n",
      "\u001b[1m> Finished chain.\u001b[0m\n"
     ]
    }
   ],
   "source": [
    "ans  = db_chain.run('do we have duplicate usernames?')"
   ]
  },
  {
   "cell_type": "code",
   "execution_count": 11,
   "metadata": {},
   "outputs": [
    {
     "name": "stdout",
     "output_type": "stream",
     "text": [
      "\n",
      "\n",
      "\u001b[1m> Entering new SQLDatabaseChain chain...\u001b[0m\n",
      "who are they?\n",
      "SQLQuery:\u001b[32;1m\u001b[1;3mSELECT username, email FROM users LIMIT 5;\u001b[0m\n",
      "SQLResult: \u001b[33;1m\u001b[1;3m[('catherine01', 'wilkersonjessica@example.com'), ('dsilva', 'cpotter@example.org'), ('santoskathryn', 'latasha53@example.net'), ('harrisbruce', 'christophernorris@example.com'), ('keithayala', 'maria39@example.net')]\u001b[0m\n",
      "Answer:\u001b[32;1m\u001b[1;3mThe users are catherine01, dsilva, santoskathryn, harrisbruce, and keithayala.\u001b[0m\n",
      "\u001b[1m> Finished chain.\u001b[0m\n"
     ]
    },
    {
     "data": {
      "text/plain": [
       "'The users are catherine01, dsilva, santoskathryn, harrisbruce, and keithayala.'"
      ]
     },
     "execution_count": 11,
     "metadata": {},
     "output_type": "execute_result"
    }
   ],
   "source": [
    "db_chain.run(query='who are they?', context=ans)"
   ]
  },
  {
   "cell_type": "code",
   "execution_count": 14,
   "metadata": {},
   "outputs": [
    {
     "name": "stdout",
     "output_type": "stream",
     "text": [
      "\n",
      "\n",
      "\u001b[1m> Entering new SQLDatabaseChain chain...\u001b[0m\n",
      "who are the duplicate users?\n",
      "SQLQuery:\u001b[32;1m\u001b[1;3mSELECT username, COUNT(*) FROM users GROUP BY username HAVING COUNT(*) > 1;\u001b[0m\n",
      "SQLResult: \u001b[33;1m\u001b[1;3m\u001b[0m\n",
      "Answer:\u001b[32;1m\u001b[1;3mThe duplicate users are catherine01 and dsilva.\u001b[0m\n",
      "\u001b[1m> Finished chain.\u001b[0m\n"
     ]
    },
    {
     "data": {
      "text/plain": [
       "'The duplicate users are catherine01 and dsilva.'"
      ]
     },
     "execution_count": 14,
     "metadata": {},
     "output_type": "execute_result"
    }
   ],
   "source": [
    "db_chain.run(query='who are the duplicate users?')"
   ]
  },
  {
   "cell_type": "markdown",
   "metadata": {},
   "source": [
    "# Custom prompts"
   ]
  },
  {
   "cell_type": "code",
   "execution_count": 41,
   "metadata": {},
   "outputs": [],
   "source": [
    "from langchain.prompts import PromptTemplate\n",
    "\n",
    "TEMPLATE = \"\"\"Given an input question, first create a syntactically correct {dialect} query to run, then look at the results of the query and return the answer.\n",
    "Use the following format:\n",
    "\n",
    "Question: \"Question here\"\n",
    "SQLQuery: \"SQL Query to run\"\n",
    "SQLResult: \"Result of the SQLQuery\"\n",
    "Answer: \"Final answer here\"\n",
    "\n",
    "Only use the following tables:\n",
    "\n",
    "{table_info}.\n",
    "\n",
    "Some examples of SQL queries that correspond to questions are:\n",
    "\n",
    "{few_shot_examples}\n",
    "\n",
    "Question: {input}\"\"\"\n",
    "\n",
    "CUSTOM_PROMPT = PromptTemplate(\n",
    "    input_variables=[\"input\", \"few_shot_examples\", \"table_info\", \"dialect\"], template=TEMPLATE\n",
    ")"
   ]
  },
  {
   "cell_type": "code",
   "execution_count": 43,
   "metadata": {},
   "outputs": [
    {
     "name": "stdout",
     "output_type": "stream",
     "text": [
      "\n",
      "\n",
      "\u001b[1m> Entering new SQLDatabaseChain chain...\u001b[0m\n",
      "Given an input question, first create a syntactically correct SQLite query to run, then look at the results of the query and return the answer.\n",
      "Use the following format:\n",
      "\n",
      "Question: \"Question here\"\n",
      "SQLQuery: \"SQL Query to run\"\n",
      "SQLResult: \"Result of the SQLQuery\"\n",
      "Answer: \"Final answer here\"\n",
      "\n",
      "Only use the following tables:\n",
      "\n",
      "users.\n",
      "\n",
      "Some examples of SQL queries that correspond to questions are:\n",
      "\n",
      "select * from users limit 10;\n",
      "\n",
      "Question: what are the most frequent domain in the emails?\n",
      "SQLQuery:\u001b[32;1m\u001b[1;3mSELECT SUBSTR(email, INSTR(email, '@') + 1) AS domain, COUNT(*) AS frequency FROM users GROUP BY domain ORDER BY frequency DESC LIMIT 5;\u001b[0m\n",
      "SQLResult: \u001b[33;1m\u001b[1;3m[('example.net', 35), ('example.com', 35), ('example.org', 30)]\u001b[0m\n",
      "Answer:\u001b[32;1m\u001b[1;3mThe most frequent domains in the emails are example.net, example.com, and example.org.\u001b[0m\n",
      "\u001b[1m> Finished chain.\u001b[0m\n"
     ]
    },
    {
     "data": {
      "text/plain": [
       "'The most frequent domains in the emails are example.net, example.com, and example.org.'"
      ]
     },
     "execution_count": 43,
     "metadata": {},
     "output_type": "execute_result"
    }
   ],
   "source": [
    "db_chain.run(CUSTOM_PROMPT.format(dialect='SQLite', table_info='users', few_shot_examples='select * from users limit 10;', input='what are the most frequent domain in the emails?'))"
   ]
  },
  {
   "cell_type": "code",
   "execution_count": null,
   "metadata": {},
   "outputs": [],
   "source": []
  },
  {
   "cell_type": "code",
   "execution_count": null,
   "metadata": {},
   "outputs": [],
   "source": []
  }
 ],
 "metadata": {
  "kernelspec": {
   "display_name": "base",
   "language": "python",
   "name": "python3"
  },
  "language_info": {
   "codemirror_mode": {
    "name": "ipython",
    "version": 3
   },
   "file_extension": ".py",
   "mimetype": "text/x-python",
   "name": "python",
   "nbconvert_exporter": "python",
   "pygments_lexer": "ipython3",
   "version": "3.9.12"
  }
 },
 "nbformat": 4,
 "nbformat_minor": 2
}
